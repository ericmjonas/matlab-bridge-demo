{
 "cells": [
  {
   "cell_type": "code",
   "execution_count": 16,
   "metadata": {
    "collapsed": false
   },
   "outputs": [
    {
     "name": "stdout",
     "output_type": "stream",
     "text": [
      "Populating the interactive namespace from numpy and matplotlib\n"
     ]
    },
    {
     "name": "stderr",
     "output_type": "stream",
     "text": [
      "WARNING: pylab import has clobbered these variables: ['ma']\n",
      "`%matplotlib` prevents importing * from pylab and numpy\n"
     ]
    }
   ],
   "source": [
    "%pylab inline\n",
    "import numpy as np\n",
    "import time\n",
    "import scipy.io"
   ]
  },
  {
   "cell_type": "code",
   "execution_count": 1,
   "metadata": {
    "collapsed": true
   },
   "outputs": [],
   "source": [
    "import matlab.engine\n",
    "import matlab"
   ]
  },
  {
   "cell_type": "code",
   "execution_count": 4,
   "metadata": {
    "collapsed": true
   },
   "outputs": [],
   "source": [
    "eng = matlab.engine.start_matlab()"
   ]
  },
  {
   "cell_type": "code",
   "execution_count": 5,
   "metadata": {
    "collapsed": true
   },
   "outputs": [],
   "source": [
    "a = eng.magic(6)"
   ]
  },
  {
   "cell_type": "code",
   "execution_count": 6,
   "metadata": {
    "collapsed": false
   },
   "outputs": [
    {
     "data": {
      "text/plain": [
       "array([[ 35.,   1.,   6.,  26.,  19.,  24.],\n",
       "       [  3.,  32.,   7.,  21.,  23.,  25.],\n",
       "       [ 31.,   9.,   2.,  22.,  27.,  20.],\n",
       "       [  8.,  28.,  33.,  17.,  10.,  15.],\n",
       "       [ 30.,   5.,  34.,  12.,  14.,  16.],\n",
       "       [  4.,  36.,  29.,  13.,  18.,  11.]])"
      ]
     },
     "execution_count": 6,
     "metadata": {},
     "output_type": "execute_result"
    }
   ],
   "source": [
    "np.array(a)"
   ]
  },
  {
   "cell_type": "code",
   "execution_count": 53,
   "metadata": {
    "collapsed": false
   },
   "outputs": [
    {
     "name": "stdout",
     "output_type": "stream",
     "text": [
      "took 4.90295386314 secs To transfer 2.56 MB or 0.52213422183 MB/s\n"
     ]
    }
   ],
   "source": [
    "# benchmark array passing\n",
    "N = 400\n",
    "\n",
    "t1 = time.time()\n",
    "for i in range(2):\n",
    "    \n",
    "    a = np.random.rand(N, N)\n",
    "    l = a.tolist()\n",
    "    b = matlab.double(l)\n",
    "    eng.sum(b)\n",
    "t2 = time.time()\n",
    "\n",
    "tdelta = t2 -t1\n",
    "mbytes = N*N*2*8/1e6\n",
    "print \"took\", tdelta, \"secs\", \"To transfer\", mbytes, \"MB\", \"or\", mbytes/tdelta, \"MB/s\""
   ]
  },
  {
   "cell_type": "code",
   "execution_count": 52,
   "metadata": {
    "collapsed": false
   },
   "outputs": [
    {
     "name": "stdout",
     "output_type": "stream",
     "text": [
      "took 19.5814399719 secs To transfer 16.0 MB or 0.817100275717 MB/s\n"
     ]
    }
   ],
   "source": [
    "# benchmark array passing\n",
    "N = 1000\n",
    "\n",
    "t1 = time.time()\n",
    "for i in range(2):\n",
    "    \n",
    "    a = np.random.rand(N, N)\n",
    "    scipy.io.savemat(\"/tmp/test.mat\", {\"foo\" : a})\n",
    "\n",
    "    b = eng.load(\"/tmp/test.mat\", 'foo')\n",
    "    eng.sum(b['foo'])\n",
    "t2 = time.time()\n",
    "\n",
    "tdelta = t2 -t1\n",
    "mbytes = N*N*2*8/1e6\n",
    "\n",
    "print \"took\", tdelta, \"secs\", \"To transfer\", mbytes, \"MB\",\"or\", mbytes/tdelta, \"MB/s\""
   ]
  },
  {
   "cell_type": "code",
   "execution_count": 39,
   "metadata": {
    "collapsed": false
   },
   "outputs": [],
   "source": []
  }
 ],
 "metadata": {
  "kernelspec": {
   "display_name": "Python 2",
   "language": "python",
   "name": "python2"
  },
  "language_info": {
   "codemirror_mode": {
    "name": "ipython",
    "version": 2
   },
   "file_extension": ".py",
   "mimetype": "text/x-python",
   "name": "python",
   "nbconvert_exporter": "python",
   "pygments_lexer": "ipython2",
   "version": "2.7.10"
  }
 },
 "nbformat": 4,
 "nbformat_minor": 0
}
